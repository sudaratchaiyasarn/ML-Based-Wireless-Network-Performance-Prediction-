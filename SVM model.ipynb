{
 "cells": [
  {
   "cell_type": "code",
   "execution_count": 1,
   "id": "a15d0ab0",
   "metadata": {},
   "outputs": [
    {
     "name": "stderr",
     "output_type": "stream",
     "text": [
      "C:\\Users\\Ubon U\\scoop\\apps\\anaconda3\\2022.10\\lib\\site-packages\\sklearn\\model_selection\\_split.py:676: UserWarning: The least populated class in y has only 1 members, which is less than n_splits=5.\n",
      "  warnings.warn(\n"
     ]
    },
    {
     "name": "stdout",
     "output_type": "stream",
     "text": [
      "Best parameters:  {'C': 32, 'gamma': 38}\n",
      "Test accuracy:  0.034164358264081256\n",
      "RMSE:  6.700932254156301\n",
      "R2:  0.6465972476188802\n",
      "Training time: 125.82437801361084s\n",
      "Best cross-validation score: 0.13\n"
     ]
    }
   ],
   "source": [
    "#SVM model\n",
    "import numpy as np\n",
    "import matplotlib.pyplot as plt\n",
    "import seaborn as sns\n",
    "import pandas as pd\n",
    "from sklearn.model_selection import train_test_split\n",
    "from sklearn.preprocessing import StandardScaler\n",
    "from sklearn.svm import SVC # import SVC model\n",
    "from sklearn.metrics import confusion_matrix, accuracy_score\n",
    "from sklearn.model_selection import GridSearchCV, train_test_split\n",
    "from sklearn.metrics import r2_score\n",
    "from sklearn.metrics import mean_absolute_error\n",
    "from sklearn.metrics import mean_squared_error\n",
    "import time\n",
    "\n",
    "dataset = pd.read_csv('Dataset.csv')\n",
    "\n",
    "start = time.time() \n",
    "X = dataset.iloc[:, :-1].values\n",
    "y = dataset.iloc[:, -1].values\n",
    "X_train, X_test, y_train, y_test = train_test_split(X, y, test_size = 0.30, random_state = 30)\n",
    "sc = StandardScaler()\n",
    "XTrain = sc.fit_transform(X_train)\n",
    "XTest = sc.transform(X_test)\n",
    "#classifier = SVC(kernel = 'rbf', random_state = 30) # creat model's object\n",
    "param_grid = {'C': [32], 'gamma':  [38]}\n",
    "svm = SVC(kernel='rbf')\n",
    "classifier = GridSearchCV(svm, param_grid,cv=5)\n",
    "classifier.fit(XTrain, y_train) # fits the model to the training data\n",
    "# predicting the test set \n",
    "y_predict = classifier.predict(XTest)\n",
    "\n",
    "# Print the best parameters\n",
    "print(\"Best parameters: \", classifier.best_params_)\n",
    "\n",
    "# Evaluate the model on the test set\n",
    "accuracy = classifier.score(X_test, y_test)\n",
    "print(\"Test accuracy: \", accuracy)\n",
    "stop = time.time()\n",
    "\n",
    "rmse = np.sqrt(mean_squared_error(y_test, y_predict))\n",
    "print(\"RMSE: \", rmse)\n",
    "r2 = r2_score(y_test, y_predict)\n",
    "print(\"R2: \", r2)\n",
    "print(f\"Training time: {stop - start}s\")\n",
    "\n",
    "# Get the best cross-validation score\n",
    "print(\"Best cross-validation score: {:.2f}\".format(classifier.best_score_))\n",
    "\n"
   ]
  },
  {
   "cell_type": "code",
   "execution_count": null,
   "id": "ee8b9522",
   "metadata": {},
   "outputs": [],
   "source": []
  },
  {
   "cell_type": "code",
   "execution_count": null,
   "id": "5537efbf",
   "metadata": {},
   "outputs": [],
   "source": []
  },
  {
   "cell_type": "code",
   "execution_count": null,
   "id": "e9ce2b64",
   "metadata": {},
   "outputs": [],
   "source": []
  },
  {
   "cell_type": "code",
   "execution_count": null,
   "id": "5f5d797c",
   "metadata": {},
   "outputs": [],
   "source": []
  },
  {
   "cell_type": "code",
   "execution_count": null,
   "id": "a66faccd",
   "metadata": {},
   "outputs": [],
   "source": []
  }
 ],
 "metadata": {
  "kernelspec": {
   "display_name": "Python 3 (ipykernel)",
   "language": "python",
   "name": "python3"
  },
  "language_info": {
   "codemirror_mode": {
    "name": "ipython",
    "version": 3
   },
   "file_extension": ".py",
   "mimetype": "text/x-python",
   "name": "python",
   "nbconvert_exporter": "python",
   "pygments_lexer": "ipython3",
   "version": "3.9.13"
  }
 },
 "nbformat": 4,
 "nbformat_minor": 5
}
