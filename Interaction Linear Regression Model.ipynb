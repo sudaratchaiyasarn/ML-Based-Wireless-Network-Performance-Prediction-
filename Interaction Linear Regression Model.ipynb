{
 "cells": [
  {
   "cell_type": "code",
   "execution_count": 16,
   "id": "91890f18",
   "metadata": {},
   "outputs": [
    {
     "name": "stdout",
     "output_type": "stream",
     "text": [
      "RMSE: 8.626842066589063\n",
      "R2 score:  0.41426231315467876\n",
      "Training time: 0.01186370849609375s\n"
     ]
    }
   ],
   "source": [
    "#Interaction Linear\n",
    "import pandas as pd\n",
    "import matplotlib.pyplot as plt\n",
    "import seaborn as sns\n",
    "from sklearn.linear_model import LinearRegression\n",
    "from sklearn.metrics import mean_squared_error\n",
    "from sklearn.preprocessing import PolynomialFeatures\n",
    "from sklearn.model_selection import train_test_split\n",
    "from sklearn.metrics import r2_score\n",
    "import numpy as np\n",
    "import time\n",
    "\n",
    "# Load the data from CSV file\n",
    "data = pd.read_csv('Dataset.csv')\n",
    "\n",
    "# Define the input and output columns\n",
    "X = data[['D3', 'TILT', 'OBS', 'HR', 'FQ']]\n",
    "y = data['RSRP']\n",
    "\n",
    "# Split the data into train and test sets\n",
    "start = time.time() \n",
    "SEED = 30\n",
    "X_train, X_test, y_train, y_test = train_test_split(X, y, test_size=0.3,random_state=SEED)\n",
    "\n",
    "# Create interaction terms\n",
    "poly = PolynomialFeatures(degree=2, interaction_only=True)\n",
    "X_train_poly = poly.fit_transform(X_train)\n",
    "X_test_poly = poly.transform(X_test)\n",
    "\n",
    "# Create and fit the linear regression model\n",
    "reg = LinearRegression().fit(X_train_poly, y_train)\n",
    "\n",
    "# Make predictions on the test set\n",
    "y_pred = reg.predict(X_test_poly)\n",
    "stop = time.time()\n",
    "# Calculate the RMSE\n",
    "rmse = np.sqrt(mean_squared_error(y_test, y_pred))\n",
    "print(\"RMSE:\", rmse)\n",
    "# calculate the R2 score on the testing data\n",
    "r2 = r2_score(y_test, y_pred)\n",
    "print(\"R2 score: \", r2)\n",
    "print(f\"Training time: {stop - start}s\")\n"
   ]
  },
  {
   "cell_type": "code",
   "execution_count": null,
   "id": "0c940720",
   "metadata": {},
   "outputs": [],
   "source": []
  },
  {
   "cell_type": "code",
   "execution_count": null,
   "id": "a6ff81e6",
   "metadata": {},
   "outputs": [],
   "source": []
  }
 ],
 "metadata": {
  "kernelspec": {
   "display_name": "Python 3 (ipykernel)",
   "language": "python",
   "name": "python3"
  },
  "language_info": {
   "codemirror_mode": {
    "name": "ipython",
    "version": 3
   },
   "file_extension": ".py",
   "mimetype": "text/x-python",
   "name": "python",
   "nbconvert_exporter": "python",
   "pygments_lexer": "ipython3",
   "version": "3.9.13"
  }
 },
 "nbformat": 4,
 "nbformat_minor": 5
}
